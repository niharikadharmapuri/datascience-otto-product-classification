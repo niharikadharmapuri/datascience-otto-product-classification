{
 "cells": [
  {
   "cell_type": "code",
   "execution_count": 2,
   "metadata": {},
   "outputs": [],
   "source": [
    "import numpy as np\n",
    "import scipy as sp\n",
    "import pandas as pd\n",
    "\n",
    "from sklearn.metrics import log_loss\n",
    "import xgboost as xgb\n",
    "from datetime import datetime"
   ]
  },
  {
   "cell_type": "code",
   "execution_count": 3,
   "metadata": {},
   "outputs": [
    {
     "ename": "NameError",
     "evalue": "name 'train' is not defined",
     "output_type": "error",
     "traceback": [
      "\u001b[0;31m---------------------------------------------------------------------------\u001b[0m",
      "\u001b[0;31mNameError\u001b[0m                                 Traceback (most recent call last)",
      "\u001b[0;32m<ipython-input-3-4a1560eacd5f>\u001b[0m in \u001b[0;36m<module>\u001b[0;34m()\u001b[0m\n\u001b[0;32m----> 1\u001b[0;31m \u001b[0mtraining\u001b[0m \u001b[0;34m=\u001b[0m \u001b[0mpd\u001b[0m\u001b[0;34m.\u001b[0m\u001b[0mread_csv\u001b[0m\u001b[0;34m(\u001b[0m\u001b[0mtrain\u001b[0m\u001b[0;34m.\u001b[0m\u001b[0mcsv\u001b[0m\u001b[0;34m,\u001b[0m \u001b[0mindex_col\u001b[0m \u001b[0;34m=\u001b[0m \u001b[0;36m0\u001b[0m\u001b[0;34m)\u001b[0m\u001b[0;34m\u001b[0m\u001b[0m\n\u001b[0m\u001b[1;32m      2\u001b[0m \u001b[0mtest\u001b[0m \u001b[0;34m=\u001b[0m \u001b[0mpd\u001b[0m\u001b[0;34m.\u001b[0m\u001b[0mread_csv\u001b[0m\u001b[0;34m(\u001b[0m\u001b[0mtest\u001b[0m\u001b[0;34m.\u001b[0m\u001b[0mcsv\u001b[0m\u001b[0;34m,\u001b[0m \u001b[0mindex_col\u001b[0m \u001b[0;34m=\u001b[0m \u001b[0;36m0\u001b[0m\u001b[0;34m)\u001b[0m\u001b[0;34m\u001b[0m\u001b[0m\n\u001b[1;32m      3\u001b[0m \u001b[0mnum_train\u001b[0m \u001b[0;34m=\u001b[0m \u001b[0mtraining\u001b[0m\u001b[0;34m.\u001b[0m\u001b[0mshape\u001b[0m\u001b[0;34m[\u001b[0m\u001b[0;36m0\u001b[0m\u001b[0;34m]\u001b[0m\u001b[0;34m\u001b[0m\u001b[0m\n",
      "\u001b[0;31mNameError\u001b[0m: name 'train' is not defined"
     ]
    }
   ],
   "source": [
    "training = pd.read_csv(train.csv, index_col = 0)\n",
    "test = pd.read_csv(test.csv, index_col = 0)\n",
    "num_train = training.shape[0]\n"
   ]
  },
  {
   "cell_type": "code",
   "execution_count": null,
   "metadata": {},
   "outputs": [],
   "source": [
    "\n",
    "target = training['target']\n",
    "training.drop('target', inplace = True, axis = 1)\n",
    "\n",
    "df_trans = pd.Series(range(9), index = target.unique())\n",
    "y = target.map(df_trans).values\n",
    "yMat = pd.get_dummies(y).values\n",
    "\n",
    "X = np.vstack((training.values, test.values))\n",
    "\n",
    "\n",
    "# Common parameters\n",
    "nIter = 50\n",
    "tc = 15 # max_depth\n",
    "sh = .1 # eta\n",
    "bf = .8 # subsample\n",
    "\n",
    "### XGB1: Count feature\n",
    "nt = 260\n",
    "mb = 5 # min_child_weight\n",
    "cs = 45. / 93 # colsample_bytree\n",
    "\n",
    "X2, ignore = count_feature(X)\n",
    "dtrain , dtest = xgb.DMatrix(X2[:num_train], label = y), xgb.DMatrix(X2[num_train:])\n",
    "\n",
    "predAll_train = np.zeros((num_train, 9))\n",
    "predAll_test = np.zeros((test.shape[0], 9))\n",
    "scores = []\n",
    "\n",
    "t0 = datetime.now()\n",
    "for i in range(nIter):\n",
    "    seed = i + 123\n",
    "    param = {'bst:max_depth':tc, 'bst:eta':sh, 'silent':1, 'objective':'multi:softprob','num_class':9,\n",
    "             'min_child_weight':mb, 'subsample':bf, 'colsample_bytree':cs, 'nthread':8, 'seed':seed}\n",
    "    plst = param.items()\n",
    "    bst = xgb.train(plst, dtrain, nt)\n",
    "    # bst.save_model(path + 'model/model_XGB_CF_' + str(seed) + '.model')\n",
    "    pred_train = bst.predict(dtrain).reshape((num_train, 9))\n",
    "    pred_test = bst.predict(dtest).reshape(predAll_test.shape)\n",
    "    predAll_train += pred_train\n",
    "    predAll_test += pred_test\n",
    "    sc1 = log_loss(yMat, pred_train)\n",
    "    sc2 = log_loss(yMat, predAll_train / (i + 1))\n",
    "    print i, \"  each:%f, avg:%f, Time:%s\" % (sc1, sc2, datetime.now() - t0)\n",
    "\n",
    "# 49   each:0.131026, avg:0.130512, Time:1:37:21.187174\n",
    "pred_XGB_CF = predAll_test / nIter\n",
    "np.save(path + 'pred_XGB_CF.npy', pred_XGB_CF)\n",
    "\n",
    "### XGB2: Random Indexing\n",
    "X1 = X / X.mean(0)\n",
    "\n",
    "m = 140\n",
    "k = 2\n",
    "nt = 220\n",
    "mb = 10 # min_child_weight\n",
    "cs = 50. / 93 # colsample_bytree\n",
    "\n",
    "predAll_train = np.zeros((num_train, 9))\n",
    "predAll_test = np.zeros((test.shape[0], 9))\n",
    "t0 = datetime.now()\n",
    "for i in range(nIter):\n",
    "    seed = i + 123210\n",
    "    X3 = RI(X1, m, k, normalize = False, seed = seed)\n",
    "    dtrain = xgb.DMatrix(X3[:num_train], label = y)\n",
    "    dtest = xgb.DMatrix(X3[num_train:])\n",
    "    param = {'bst:max_depth':tc, 'bst:eta':sh, 'silent':1, 'objective':'multi:softprob',\n",
    "             'num_class':9, 'min_child_weight':mb, 'subsample':bf,\n",
    "             'colsample_bytree':cs, 'nthread':8, 'seed':seed}\n",
    "    plst = param.items()\n",
    "    bst = xgb.train(plst, dtrain, nt)\n",
    "    # bst.save_model(path + 'model/model_XGB_RI_' + str(seed) + '.model')\n",
    "    pred_train = bst.predict(dtrain).reshape((num_train, 9))\n",
    "    pred_test = bst.predict(dtest).reshape(predAll_test.shape)\n",
    "    predAll_train += pred_train\n",
    "    predAll_test += pred_test\n",
    "    sc1 = log_loss(yMat, pred_train)\n",
    "    sc2 = log_loss(yMat, predAll_train / (i + 1))\n",
    "    print i, \"  each:%f, avg:%f, Time:%s\" % (sc1, sc2, datetime.now() - t0)\n",
    "\n",
    "# 49   each:0.085345, avg:0.084942, Time:1:56:57.580157\n",
    "pred_XGB_RI = predAll_test / nIter\n",
    "np.save(path + 'pred_XGB_RI.npy', pred_XGB_RI)"
   ]
  },
  {
   "cell_type": "code",
   "execution_count": null,
   "metadata": {},
   "outputs": [],
   "source": []
  },
  {
   "cell_type": "code",
   "execution_count": null,
   "metadata": {},
   "outputs": [],
   "source": []
  }
 ],
 "metadata": {
  "kernelspec": {
   "display_name": "Python 3",
   "language": "python",
   "name": "python3"
  },
  "language_info": {
   "codemirror_mode": {
    "name": "ipython",
    "version": 3
   },
   "file_extension": ".py",
   "mimetype": "text/x-python",
   "name": "python",
   "nbconvert_exporter": "python",
   "pygments_lexer": "ipython3",
   "version": "3.6.5"
  }
 },
 "nbformat": 4,
 "nbformat_minor": 2
}
