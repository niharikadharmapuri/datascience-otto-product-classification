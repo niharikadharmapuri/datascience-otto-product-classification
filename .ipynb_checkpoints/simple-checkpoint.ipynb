{
 "cells": [
  {
   "cell_type": "code",
   "execution_count": null,
   "metadata": {
    "_cell_guid": "7bd80850-f277-4471-808e-c56d4f78716f",
    "_uuid": "3c3a79d57f35105c9dad838a5770bbb214faf978",
    "collapsed": true
   },
   "outputs": [],
   "source": [
    "import pandas as pd\n",
    "import numpy as np\n",
    "from matplotlib import pyplot as plt\n",
    "%matplotlib inline\n",
    "import seaborn as sns\n",
    "from sklearn.utils import shuffle"
   ]
  },
  {
   "cell_type": "markdown",
   "metadata": {
    "_cell_guid": "0325379c-7f11-46ea-84f1-6ec54b8b3ba7",
    "_uuid": "d9c324a587746f2fb4f1574da9528f07574416e4"
   },
   "source": [
    "## Import Dataset"
   ]
  },
  {
   "cell_type": "code",
   "execution_count": null,
   "metadata": {
    "_cell_guid": "689cdfed-bd6f-4f24-8c49-993e0a9112b4",
    "_uuid": "db52b1568f9b0ef169c8800fd6a8893d82c33a64",
    "collapsed": true
   },
   "outputs": [],
   "source": [
    "train_csv = pd.read_csv('../input/train.csv')\n",
    "test = pd.read_csv('../input/test.csv')"
   ]
  },
  {
   "cell_type": "code",
   "execution_count": null,
   "metadata": {
    "_cell_guid": "e9959d1c-b38d-4254-885c-be7993b01153",
    "_uuid": "d73d2e574ab4fc61b36a4ecff1db307c3533a931",
    "collapsed": true
   },
   "outputs": [],
   "source": [
    "train_csv = shuffle(train_csv)\n",
    "train_csv=train_csv"
   ]
  },
  {
   "cell_type": "markdown",
   "metadata": {
    "_cell_guid": "6c7fcc3a-fee3-4b6b-a1e2-631c8cd9b91e",
    "_uuid": "bf5e2a02fa779cc33949b62a5a050ccde14a28d9"
   },
   "source": [
    "## Datasets:-"
   ]
  },
  {
   "cell_type": "markdown",
   "metadata": {
    "_cell_guid": "29d33340-7bd0-4846-976b-3623190e1c5d",
    "_uuid": "94bf4d912c9c994231c3de19495781bc1c50616d"
   },
   "source": [
    "### Train Data:-"
   ]
  },
  {
   "cell_type": "code",
   "execution_count": null,
   "metadata": {
    "_cell_guid": "b34fe3b7-43da-46dc-89f4-baa79cd86431",
    "_uuid": "89a7249ad289f4f0bf2bbc45194d0dcb942e0050",
    "collapsed": true
   },
   "outputs": [],
   "source": [
    "train_csv.head()"
   ]
  },
  {
   "cell_type": "markdown",
   "metadata": {
    "_cell_guid": "e1641e52-099c-4887-ac36-089a71289e5e",
    "_uuid": "2d5364565f9875b6e38cc2104f0e864eb4509fff"
   },
   "source": [
    "# Visualization:-"
   ]
  },
  {
   "cell_type": "markdown",
   "metadata": {
    "_cell_guid": "089949b0-b226-4534-937d-19af15bebae0",
    "_uuid": "57a2baa60e4451f93e99dc7e6969741cc6c34d9b"
   },
   "source": [
    "## Count Plot:-\n",
    "This is number of outcome of each type"
   ]
  },
  {
   "cell_type": "code",
   "execution_count": null,
   "metadata": {
    "_cell_guid": "307890ce-d5a2-4515-9347-6199645b0d63",
    "_uuid": "03ace26fc14ef81761174ae450251909e1fd7e68",
    "collapsed": true
   },
   "outputs": [],
   "source": [
    "order = sorted(set(train_csv['target']))\n",
    "sns.countplot(x='target', data=train_csv,order=order)\n",
    "plt.grid()\n",
    "plt.title(\"No of Product of Each Class\")\n",
    "plt.figure(num=None, figsize=(20, 30), dpi=80, facecolor='w', edgecolor='k')"
   ]
  },
  {
   "cell_type": "markdown",
   "metadata": {
    "_cell_guid": "bd7bfd6b-0b00-4741-b6df-7f773da6c724",
    "_uuid": "b6bd6628fa395e45351c8e18c9b41d4ce8df1647"
   },
   "source": [
    "## Weight Of Each Feature:-\n",
    "This is the sum of all the featues."
   ]
  },
  {
   "cell_type": "code",
   "execution_count": null,
   "metadata": {
    "_cell_guid": "8d11f8e1-4b02-44d2-a36b-441f9e868ff7",
    "_uuid": "2a867caeae43e067b409fbbc38ca35167926243e",
    "collapsed": true
   },
   "outputs": [],
   "source": [
    "wt = train_csv.sum()\n",
    "wt.drop(['target','id']).sort_values().plot(kind='barh', figsize=(15,20))\n",
    "plt.grid()\n",
    "plt.title(\"Weight Of Features\")"
   ]
  },
  {
   "cell_type": "markdown",
   "metadata": {
    "_cell_guid": "c052073c-66f5-4bef-a705-2c4dc22e87a1",
    "_uuid": "6c0662e2d404a67ee8138b14d1e27782b20dfb01"
   },
   "source": [
    "## Correation Analysis:-"
   ]
  },
  {
   "cell_type": "code",
   "execution_count": null,
   "metadata": {
    "_cell_guid": "d174bce6-ece0-4ff4-89f6-da3dbc59c4d3",
    "_uuid": "d65ef25a5ad932867acf1e9599702577315d05b8",
    "collapsed": true
   },
   "outputs": [],
   "source": [
    "df = train_csv.drop(['id','target'],axis=1).corr()\n",
    "sns.heatmap(df)\n",
    "plt.title(\"Correation Analysis\")"
   ]
  },
  {
   "cell_type": "markdown",
   "metadata": {
    "_cell_guid": "045c7ae9-569d-48db-9c0b-76b89471785c",
    "_uuid": "f850c136e3b3a812bf3dc9d8a524b957ebe5cdf3"
   },
   "source": [
    "## Covariance Analysis:-"
   ]
  },
  {
   "cell_type": "code",
   "execution_count": null,
   "metadata": {
    "_cell_guid": "14ac7e60-ca2f-4401-9cf4-79a3738adb1e",
    "_uuid": "d19462021697a8c37408505c33cb3930f85101df",
    "collapsed": true
   },
   "outputs": [],
   "source": [
    "df.var().sort_values().plot(kind='barh', figsize=(15,20))\n",
    "plt.grid()\n",
    "plt.title(\"Covariance Analysis\")"
   ]
  },
  {
   "cell_type": "markdown",
   "metadata": {
    "_cell_guid": "3d819622-7dad-4723-94d7-65ffde2ea10f",
    "_uuid": "75d21feced4c55720bb5c54a6d017783903b2c2e"
   },
   "source": [
    "## Preprocessing:-"
   ]
  },
  {
   "cell_type": "code",
   "execution_count": null,
   "metadata": {
    "_cell_guid": "3963e9a1-1007-45f3-b142-eea65fca91c5",
    "_uuid": "f0c83eb344dd27ffec80367f8d828581bcfc1788",
    "collapsed": true
   },
   "outputs": [],
   "source": [
    "train_csv.describe()"
   ]
  },
  {
   "cell_type": "code",
   "execution_count": null,
   "metadata": {
    "_cell_guid": "496d9e8f-e354-4471-92a5-c6d06aa4a9e8",
    "_uuid": "5d25d1de07dd387ec419b6f30d4435c206283844",
    "collapsed": true
   },
   "outputs": [],
   "source": [
    "X = train_csv\n",
    "Y = train_csv['target']\n",
    "del X['target']\n",
    "del X['id']"
   ]
  },
  {
   "cell_type": "code",
   "execution_count": null,
   "metadata": {
    "_cell_guid": "f5444d5c-505c-43c8-89ed-f40c14d121c2",
    "_uuid": "3f76a3c6d0215da152514d20be79d9e2d1c26b28",
    "collapsed": true,
    "scrolled": true
   },
   "outputs": [],
   "source": [
    "X.describe()"
   ]
  },
  {
   "cell_type": "markdown",
   "metadata": {
    "_cell_guid": "a28236ac-0c37-41cf-9545-028760843599",
    "_uuid": "201ec0444e581c86e1bda233096ddd3b6a506db8"
   },
   "source": [
    "### Label Encoding:-"
   ]
  },
  {
   "cell_type": "code",
   "execution_count": null,
   "metadata": {
    "_cell_guid": "300c7197-357b-405c-8674-bc690c50ac48",
    "_uuid": "cd7a7e16488c1ba45cd0f58542c3eb3178c2328d",
    "collapsed": true
   },
   "outputs": [],
   "source": [
    "from sklearn import preprocessing\n",
    "le = preprocessing.LabelEncoder()\n",
    "le.fit(Y.values.tolist())\n",
    "label=le.transform(Y)\n",
    "print(list(le.classes_))\n",
    "print(label)"
   ]
  },
  {
   "cell_type": "markdown",
   "metadata": {
    "_cell_guid": "9fbed486-8825-49e0-914c-94dc8400e798",
    "_uuid": "d329026749dc30e241da73e5da41d9080f4c7a93"
   },
   "source": [
    "## Feature Extraction:-"
   ]
  },
  {
   "cell_type": "code",
   "execution_count": null,
   "metadata": {
    "_cell_guid": "000b9984-2915-4442-ac1c-153c12eb8caf",
    "_uuid": "506e3e11e8e994a4654278de51d9643d7e3e8df1",
    "collapsed": true
   },
   "outputs": [],
   "source": [
    "noOfFeature = 45"
   ]
  },
  {
   "cell_type": "code",
   "execution_count": null,
   "metadata": {
    "_cell_guid": "645fa8de-14f9-47a1-88fe-ea14733f088e",
    "_uuid": "19d707bebf6d7a8411977f982503af4f0e6695db",
    "collapsed": true
   },
   "outputs": [],
   "source": [
    "from sklearn.feature_selection import RFE\n",
    "from sklearn.ensemble import RandomForestClassifier\n",
    "import timeit\n",
    "start = timeit.default_timer()\n",
    "clf = RandomForestClassifier()\n",
    "rfe = RFE(clf, noOfFeature)\n",
    "fit = rfe.fit(X, label)\n",
    "print(\"Time take %.2f \"%(timeit.default_timer()-start))\n",
    "print((\"Num Features: %d\") % fit.n_features_)\n",
    "print((\"Selected Features: %s\") % fit.support_)\n",
    "print((\"Feature Ranking: %s\") % fit.ranking_)\n",
    "features = []\n",
    "for i , j in zip(X.columns,fit.support_):\n",
    "    if j == True:\n",
    "        features.append(str(i))"
   ]
  },
  {
   "cell_type": "code",
   "execution_count": null,
   "metadata": {
    "_cell_guid": "b9f83198-02ac-40f3-aea2-39738861ceef",
    "_uuid": "c5efb08b7620ecabcc1f847d824c89eb630730dc",
    "collapsed": true
   },
   "outputs": [],
   "source": [
    "print(features)"
   ]
  },
  {
   "cell_type": "markdown",
   "metadata": {
    "_cell_guid": "c260e337-2f56-4936-829e-fe2e4c7b18d8",
    "_uuid": "29853588f938ceaa9cc7c7ecb138d959bc9e50fb"
   },
   "source": [
    "## Model Creation:-"
   ]
  },
  {
   "cell_type": "code",
   "execution_count": null,
   "metadata": {
    "_cell_guid": "f6718d4f-fe3f-4bae-8161-f7ce9883d6fd",
    "_uuid": "5b6a6f6f9b5fa708275f205650857b2e7527d8f0",
    "collapsed": true
   },
   "outputs": [],
   "source": [
    "from sklearn.model_selection import cross_val_score\n",
    "import timeit\n",
    "from xgboost import XGBClassifier\n",
    "from statistics import mean\n",
    "train_csv = pd.read_csv('../input/train.csv')"
   ]
  },
  {
   "cell_type": "markdown",
   "metadata": {
    "_cell_guid": "764e0017-c076-4145-a5c1-c7451c2ef3bd",
    "_uuid": "c18ac04c4280da6eb6ba60a718aef2f2c3abdfeb"
   },
   "source": [
    "# Original Dataset:-"
   ]
  },
  {
   "cell_type": "code",
   "execution_count": null,
   "metadata": {
    "_cell_guid": "716495cd-7f84-44f1-9dbf-dee1ac48bf5f",
    "_uuid": "de9b2ace9d34babf5012e86f0ecb5c5af66e8b7a",
    "collapsed": true
   },
   "outputs": [],
   "source": [
    "start = timeit.default_timer()\n",
    "clf=XGBClassifier(base_score=0.5, colsample_bylevel=1, colsample_bytree=.8,subsample=0.5,\n",
    "       gamma=0, learning_rate=0.1, max_delta_step=0, max_depth=5,\n",
    "       missing=None, n_estimators=100, nthread=2,\n",
    "       objective='multi:softprob', reg_alpha=0, reg_lambda=1,\n",
    "       scale_pos_weight=1, seed=27, silent=True)\n",
    "scores = cross_val_score(clf,X[features], label, cv=2)\n",
    "print(\"Time take %.2f \"%(timeit.default_timer()-start))\n",
    "print(\"Accuracy: %0.4f (+/- %0.4f)\" % (scores.mean(), scores.std() * 2))"
   ]
  },
  {
   "cell_type": "code",
   "execution_count": null,
   "metadata": {
    "_cell_guid": "e36dd101-3576-4df0-8afb-7b4303d1ea84",
    "_uuid": "00d39c9da9926dc254350a481edff9e2e9090637",
    "collapsed": true
   },
   "outputs": [],
   "source": [
    "xg = XGBClassifier(base_score=0.5, colsample_bylevel=1, colsample_bytree=.8,subsample=.2,\n",
    "       gamma=0,learning_rate=0.1,max_delta_step= 4,max_depth=5,\n",
    "       missing=None,n_estimators= 400,nthread=2,\n",
    "       objective='multi:softprob', reg_alpha=0, reg_lambda=1,\n",
    "       scale_pos_weight=1, seed=27,silent=1)\n",
    "start = timeit.default_timer()\n",
    "scores = cross_val_score(xg,X[features], label, cv=2)\n",
    "print(\"Time take %.2f \"%(timeit.default_timer()-start))\n",
    "print(\"Accuracy: %0.4f (+/- %0.4f)\" % (scores.mean(), scores.std() * 2))"
   ]
  },
  {
   "cell_type": "code",
   "execution_count": null,
   "metadata": {
    "_cell_guid": "078faf49-3ac9-4566-8849-2985f15355c0",
    "_uuid": "34cd808bf42d9f590799a57285f1a90589643c9b",
    "collapsed": true
   },
   "outputs": [],
   "source": [
    "start = timeit.default_timer()\n",
    "xg.fit(X[features], label)\n",
    "print(\"Time take to fit the data %.2f \"%(timeit.default_timer()-start))"
   ]
  },
  {
   "cell_type": "code",
   "execution_count": null,
   "metadata": {
    "_cell_guid": "9b149fb4-965a-4fcb-a5f9-1608f27d4af6",
    "_uuid": "f4731923fa4f34cebc377c20567da96b30d9e23e",
    "collapsed": true
   },
   "outputs": [],
   "source": [
    "start = timeit.default_timer()\n",
    "pre = xg.predict(test[features])\n",
    "print(\"Time take predict output %.2f \"%(timeit.default_timer()-start))"
   ]
  }
 ],
 "metadata": {
  "kernelspec": {
   "display_name": "Python 3",
   "language": "python",
   "name": "python3"
  },
  "language_info": {
   "codemirror_mode": {
    "name": "ipython",
    "version": 3
   },
   "file_extension": ".py",
   "mimetype": "text/x-python",
   "name": "python",
   "nbconvert_exporter": "python",
   "pygments_lexer": "ipython3",
   "version": "3.6.5"
  }
 },
 "nbformat": 4,
 "nbformat_minor": 1
}
